{
  "nbformat": 4,
  "nbformat_minor": 0,
  "metadata": {
    "colab": {
      "name": "visualizing-teaching-evaluations.ipynb",
      "provenance": [],
      "authorship_tag": "ABX9TyObTTJTMO3lgE0sBCQl9YQS",
      "include_colab_link": true
    },
    "kernelspec": {
      "name": "python3",
      "display_name": "Python 3"
    }
  },
  "cells": [
    {
      "cell_type": "markdown",
      "metadata": {
        "id": "view-in-github",
        "colab_type": "text"
      },
      "source": [
        "<a href=\"https://colab.research.google.com/github/jrg94/doodles/blob/master/visualizing_teaching_evaluations.ipynb\" target=\"_parent\"><img src=\"https://colab.research.google.com/assets/colab-badge.svg\" alt=\"Open In Colab\"/></a>"
      ]
    },
    {
      "cell_type": "code",
      "metadata": {
        "id": "YKqBX5hkAtzV",
        "colab_type": "code",
        "colab": {}
      },
      "source": [
        "# Load useful libraries\n",
        "import pandas as pd"
      ],
      "execution_count": 0,
      "outputs": []
    },
    {
      "cell_type": "code",
      "metadata": {
        "id": "_WclUf_oGoOL",
        "colab_type": "code",
        "colab": {
          "base_uri": "https://localhost:8080/",
          "height": 166
        },
        "outputId": "0586e119-51ad-4d91-961e-8f7586624f80"
      },
      "source": [
        "# Load data and take a peek\n",
        "df = pd.read_csv(\"https://raw.githubusercontent.com/jrg94/doodles/master/evals.csv\")\n",
        "df.head()"
      ],
      "execution_count": 30,
      "outputs": [
        {
          "output_type": "execute_result",
          "data": {
            "text/html": [
              "<div>\n",
              "<style scoped>\n",
              "    .dataframe tbody tr th:only-of-type {\n",
              "        vertical-align: middle;\n",
              "    }\n",
              "\n",
              "    .dataframe tbody tr th {\n",
              "        vertical-align: top;\n",
              "    }\n",
              "\n",
              "    .dataframe thead th {\n",
              "        text-align: right;\n",
              "    }\n",
              "</style>\n",
              "<table border=\"1\" class=\"dataframe\">\n",
              "  <thead>\n",
              "    <tr style=\"text-align: right;\">\n",
              "      <th></th>\n",
              "      <th>subject</th>\n",
              "      <th>course</th>\n",
              "      <th>class</th>\n",
              "      <th>term</th>\n",
              "      <th>q1</th>\n",
              "      <th>q2</th>\n",
              "      <th>q3</th>\n",
              "      <th>q4</th>\n",
              "      <th>q5</th>\n",
              "      <th>q6</th>\n",
              "      <th>q7</th>\n",
              "      <th>q8</th>\n",
              "      <th>q9</th>\n",
              "      <th>q10</th>\n",
              "    </tr>\n",
              "  </thead>\n",
              "  <tbody>\n",
              "    <tr>\n",
              "      <th>0</th>\n",
              "      <td>cse</td>\n",
              "      <td>1223</td>\n",
              "      <td>26319</td>\n",
              "      <td>au18</td>\n",
              "      <td>4.13</td>\n",
              "      <td>4.38</td>\n",
              "      <td>4.72</td>\n",
              "      <td>4.75</td>\n",
              "      <td>4.50</td>\n",
              "      <td>4.72</td>\n",
              "      <td>4.53</td>\n",
              "      <td>4.53</td>\n",
              "      <td>4.44</td>\n",
              "      <td>4.63</td>\n",
              "    </tr>\n",
              "    <tr>\n",
              "      <th>1</th>\n",
              "      <td>cse</td>\n",
              "      <td>1223</td>\n",
              "      <td>8281</td>\n",
              "      <td>sp19</td>\n",
              "      <td>4.48</td>\n",
              "      <td>4.48</td>\n",
              "      <td>4.68</td>\n",
              "      <td>4.65</td>\n",
              "      <td>4.61</td>\n",
              "      <td>4.71</td>\n",
              "      <td>4.58</td>\n",
              "      <td>4.53</td>\n",
              "      <td>4.55</td>\n",
              "      <td>4.77</td>\n",
              "    </tr>\n",
              "    <tr>\n",
              "      <th>2</th>\n",
              "      <td>cse</td>\n",
              "      <td>2221</td>\n",
              "      <td>35160</td>\n",
              "      <td>au19</td>\n",
              "      <td>4.57</td>\n",
              "      <td>4.39</td>\n",
              "      <td>4.87</td>\n",
              "      <td>4.83</td>\n",
              "      <td>4.74</td>\n",
              "      <td>4.96</td>\n",
              "      <td>4.74</td>\n",
              "      <td>4.87</td>\n",
              "      <td>4.78</td>\n",
              "      <td>4.91</td>\n",
              "    </tr>\n",
              "    <tr>\n",
              "      <th>3</th>\n",
              "      <td>cse</td>\n",
              "      <td>2221</td>\n",
              "      <td>11278</td>\n",
              "      <td>sp20</td>\n",
              "      <td>4.03</td>\n",
              "      <td>4.45</td>\n",
              "      <td>4.72</td>\n",
              "      <td>4.69</td>\n",
              "      <td>4.66</td>\n",
              "      <td>4.83</td>\n",
              "      <td>4.62</td>\n",
              "      <td>4.55</td>\n",
              "      <td>4.48</td>\n",
              "      <td>4.76</td>\n",
              "    </tr>\n",
              "  </tbody>\n",
              "</table>\n",
              "</div>"
            ],
            "text/plain": [
              "  subject  course  class  term    q1    q2  ...    q5    q6    q7    q8    q9   q10\n",
              "0     cse    1223  26319  au18  4.13  4.38  ...  4.50  4.72  4.53  4.53  4.44  4.63\n",
              "1     cse    1223   8281  sp19  4.48  4.48  ...  4.61  4.71  4.58  4.53  4.55  4.77\n",
              "2     cse    2221  35160  au19  4.57  4.39  ...  4.74  4.96  4.74  4.87  4.78  4.91\n",
              "3     cse    2221  11278  sp20  4.03  4.45  ...  4.66  4.83  4.62  4.55  4.48  4.76\n",
              "\n",
              "[4 rows x 14 columns]"
            ]
          },
          "metadata": {
            "tags": []
          },
          "execution_count": 30
        }
      ]
    },
    {
      "cell_type": "code",
      "metadata": {
        "id": "D6ADigArPQyI",
        "colab_type": "code",
        "colab": {
          "base_uri": "https://localhost:8080/",
          "height": 94
        },
        "outputId": "d1b19364-1141-4bd6-abfa-4d9939b605f6"
      },
      "source": [
        "# Load question labels\n",
        "labels = pd.read_csv(\"https://raw.githubusercontent.com/jrg94/doodles/master/questions.csv\")\n",
        "labels.head()"
      ],
      "execution_count": 31,
      "outputs": [
        {
          "output_type": "execute_result",
          "data": {
            "text/html": [
              "<div>\n",
              "<style scoped>\n",
              "    .dataframe tbody tr th:only-of-type {\n",
              "        vertical-align: middle;\n",
              "    }\n",
              "\n",
              "    .dataframe tbody tr th {\n",
              "        vertical-align: top;\n",
              "    }\n",
              "\n",
              "    .dataframe thead th {\n",
              "        text-align: right;\n",
              "    }\n",
              "</style>\n",
              "<table border=\"1\" class=\"dataframe\">\n",
              "  <thead>\n",
              "    <tr style=\"text-align: right;\">\n",
              "      <th></th>\n",
              "      <th>q1</th>\n",
              "      <th>q2</th>\n",
              "      <th>q3</th>\n",
              "      <th>q4</th>\n",
              "      <th>q5</th>\n",
              "      <th>q6</th>\n",
              "      <th>q7</th>\n",
              "      <th>q8</th>\n",
              "      <th>q9</th>\n",
              "      <th>q10</th>\n",
              "    </tr>\n",
              "  </thead>\n",
              "  <tbody>\n",
              "    <tr>\n",
              "      <th>0</th>\n",
              "      <td>The subject matter of this course was well org...</td>\n",
              "      <td>This course was intellectually stimulating</td>\n",
              "      <td>This instructor was genuinely interested in te...</td>\n",
              "      <td>The instructor encouraged students to think fo...</td>\n",
              "      <td>The instructor was well prepared</td>\n",
              "      <td>The instructor was genuinely interested in hel...</td>\n",
              "      <td>I learned a great deal from this instructor</td>\n",
              "      <td>The instructor created an atmosphere conducive...</td>\n",
              "      <td>The instructor communicated the subject matter...</td>\n",
              "      <td>Overall, I would rate this instructor as</td>\n",
              "    </tr>\n",
              "  </tbody>\n",
              "</table>\n",
              "</div>"
            ],
            "text/plain": [
              "                                                  q1  ...                                       q10\n",
              "0  The subject matter of this course was well org...  ...  Overall, I would rate this instructor as\n",
              "\n",
              "[1 rows x 10 columns]"
            ]
          },
          "metadata": {
            "tags": []
          },
          "execution_count": 31
        }
      ]
    },
    {
      "cell_type": "code",
      "metadata": {
        "id": "IDKMHbshGt7z",
        "colab_type": "code",
        "colab": {
          "base_uri": "https://localhost:8080/",
          "height": 421
        },
        "outputId": "5c59e036-dd33-4847-b9d4-2c7d66414f11"
      },
      "source": [
        "# Plot Q1\n",
        "df.plot(\n",
        "    x=\"term\", \n",
        "    y=\"q1\", \n",
        "    figsize=(10, 6),\n",
        "    title=labels.iloc[0][\"q1\"],\n",
        "    legend=False\n",
        ")"
      ],
      "execution_count": 32,
      "outputs": [
        {
          "output_type": "execute_result",
          "data": {
            "text/plain": [
              "<matplotlib.axes._subplots.AxesSubplot at 0x7f61c276a518>"
            ]
          },
          "metadata": {
            "tags": []
          },
          "execution_count": 32
        },
        {
          "output_type": "display_data",
          "data": {
            "image/png": "[encoded data removed]",
            "text/plain": [
              "<Figure size 720x432 with 1 Axes>"
            ]
          },
          "metadata": {
            "tags": [],
            "needs_background": "light"
          }
        }
      ]
    }
  ]
}